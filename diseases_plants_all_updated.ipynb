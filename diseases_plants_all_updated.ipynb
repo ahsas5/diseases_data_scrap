{
 "cells": [
  {
   "cell_type": "code",
   "execution_count": 4,
   "metadata": {},
   "outputs": [
    {
     "name": "stdout",
     "output_type": "stream",
     "text": [
      "Running for /pests-diseases-weeds/plant/phytophthora-blight\n",
      "Running for /pests-diseases-weeds/plant/brown-marmorated-stink-bug\n",
      "Running for /pests-diseases-weeds/plant/citrus-canker\n",
      "Running for /pests-diseases-weeds/plant/exotic-bees\n",
      "Running for /pests-diseases-weeds/plant/fruit-flies\n",
      "Running for /pests-diseases-weeds/plant/giant-african-snail\n",
      "Running for /pests-diseases-weeds/plant/guava-eucalyptus-rust\n",
      "Running for /pests-diseases-weeds/plant/exotic-gypsy-moth\n",
      "Running for /pests-diseases-weeds/plant/huanglongbing\n",
      "Running for /pests-diseases-weeds/plant/bees\n",
      "Running for /pests-diseases-weeds/plant/khapra-beetle\n",
      "Running for /pests-diseases-weeds/plant/karnal-bunt\n",
      "Running for /pests-diseases-weeds/plant/leaf-miner\n",
      "Running for /pests-diseases-weeds/plant/panama-disease-tropical-race-4\n",
      "Running for /pests-diseases-weeds/plant/potato-cyst-nematode\n",
      "Running for /pests-diseases-weeds/plant/xylella\n",
      "Running for /pests-diseases-weeds/plant/russian-wheat-aphid\n",
      "Running for /pests-diseases-weeds/plant/tramp-ants\n",
      "Running for /pests-diseases-weeds/plant/ug99\n",
      "Running for /pests-diseases-weeds/plant/zebra-chip\n"
     ]
    }
   ],
   "source": [
    "import requests\n",
    "from bs4 import BeautifulSoup\n",
    "import pandas as pd\n",
    "from pandas import ExcelWriter\n",
    "from pandas import ExcelFile\n",
    "\n",
    "base_url = 'http://www.agriculture.gov.au'\n",
    "url = 'http://www.agriculture.gov.au/pests-diseases-weeds/plant#identify-pests-diseases'\n",
    "r = requests.get(url)\n",
    "soup = BeautifulSoup(r.content, 'html.parser')\n",
    "ul = soup.find('a', {'href' : '/pests-diseases-weeds/plant'}).find_next('ul')\n",
    "disease_links = [x['href'] for x in ul.select('.dynamic.menu-item')]\n",
    "disease_details = []\n",
    "\n",
    "for disease_link in disease_links:\n",
    "    if disease_link == '/pests-diseases-weeds/plant/xylella/international-symposium-xylella-fastidiosa':\n",
    "        continue\n",
    "\n",
    "    print('Running for {}'.format(disease_link))\n",
    "    full_url = base_url + disease_link\n",
    "    r = requests.get(full_url)\n",
    "    soup = BeautifulSoup(r.content, 'html.parser')\n",
    "    disease_name = soup.find(class_='pest-header-content').find('h2').get_text().strip()\n",
    "    image_link = soup.find(class_='pest-header-image').find('img')['src']\n",
    "    image_link_updated = \"http://www.agriculture.gov.au\" + image_link\n",
    "    try:\n",
    "        origin = soup.find(class_='pest-header-content').find_all('p')[1].find_all('strong')[1].next_sibling\n",
    "    except IndexError:\n",
    "        origin = soup.find(class_='pest-header-content').find_all('p')[2].find_all('strong')[1].next_sibling\n",
    "    how_to_identify = soup.find_all(class_='hide')[0].get_text()\n",
    "    legally_to_aus = soup.find_all(class_='hide')[1].get_text()\n",
    "    secure_suspect_specimens = soup.find_all(class_='hide')[2].get_text()\n",
    "    disease_details.append({\n",
    "        'disease_name': disease_name,\n",
    "        'image_link': image_link_updated,\n",
    "        'origin': origin,\n",
    "        'how_to_identify': how_to_identify,\n",
    "        'legally_to_aus':legally_to_aus,\n",
    "        'secure_suspect_specimens':secure_suspect_specimens\n",
    "    })\n",
    "\n",
    "df = pd.DataFrame(disease_details)\n",
    "writer = ExcelWriter('disease_details_latest_2.xlsx')\n",
    "df.to_excel(writer,'Sheet1',index=False)\n",
    "writer.save()"
   ]
  },
  {
   "cell_type": "code",
   "execution_count": null,
   "metadata": {},
   "outputs": [],
   "source": []
  }
 ],
 "metadata": {
  "kernelspec": {
   "display_name": "Python 3",
   "language": "python",
   "name": "python3"
  },
  "language_info": {
   "codemirror_mode": {
    "name": "ipython",
    "version": 3
   },
   "file_extension": ".py",
   "mimetype": "text/x-python",
   "name": "python",
   "nbconvert_exporter": "python",
   "pygments_lexer": "ipython3",
   "version": "3.7.1"
  }
 },
 "nbformat": 4,
 "nbformat_minor": 2
}
